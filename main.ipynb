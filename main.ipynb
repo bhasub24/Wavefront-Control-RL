{
 "cells": [
  {
   "cell_type": "code",
   "execution_count": null,
   "id": "28a7ebe4",
   "metadata": {},
   "outputs": [],
   "source": [
    "from agents.ppo_agent import PPOAgent\n",
    "from env.wavefront_env import WavefrontEnv\n",
    "from train.train import train_ppo\n",
    "from utils.plotting import plot_training_curve, visualize_best_mask\n",
    "\n",
    "\n",
    "def main():\n",
    "    # Create environment\n",
    "    env = WavefrontEnv(slm_dim1=64, slm_dim2=64, num_pix_per_block=32, alpha=0.3, noise_sigma=0.05)\n",
    "    \n",
    "    # Create PPO agent\n",
    "    agent = PPOAgent(\n",
    "        state_dim=env.state_dim,\n",
    "        action_dim=env.action_space,\n",
    "        lr=3e-4,\n",
    "        gamma=0.99,\n",
    "        clip_ratio=0.2,\n",
    "        value_coef=0.5,\n",
    "        entropy_coef=0.01,\n",
    "        gae_lambda=0.95\n",
    "    )\n",
    "    \n",
    "    # Train agent\n",
    "    print(\"Starting training...\")\n",
    "    results = train_ppo(\n",
    "        env=env,\n",
    "        agent=agent,\n",
    "        max_episodes=500,  # Adjust based on your time constraints\n",
    "        steps_per_episode=128,\n",
    "        update_interval=5,\n",
    "        eval_interval=25\n",
    "    )\n",
    "    \n",
    "    # Save the trained model\n",
    "    agent.save('wavefront_ppo_model.pth')\n",
    "    \n",
    "    # Visualize results\n",
    "    plot_training_curve(results)\n",
    "    visualize_best_mask(env, results['best_mask'])\n",
    "    \n",
    "    print(f\"Training completed. Best intensity achieved: {results['best_intensity']:.4f}\")\n",
    "\n",
    "if __name__ == \"__main__\":\n",
    "    main()"
   ]
  }
 ],
 "metadata": {
  "language_info": {
   "name": "python"
  }
 },
 "nbformat": 4,
 "nbformat_minor": 5
}
